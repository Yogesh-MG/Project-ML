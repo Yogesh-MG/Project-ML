{
 "cells": [
  {
   "cell_type": "code",
   "execution_count": 1,
   "id": "ed754332-0017-4067-aae9-4c6eb8bc8227",
   "metadata": {},
   "outputs": [
    {
     "name": "stdout",
     "output_type": "stream",
     "text": [
      "mean :[[4.0, 5.0, 6.0], [2.0, 5.0, 8.0], 5.0]\n",
      "variance :[[6.0, 6.0, 6.0], [0.6666666666666666, 0.6666666666666666, 0.6666666666666666], 6.666666666666667]\n",
      "standard deviation :[[2.449489742783178, 2.449489742783178, 2.449489742783178], [0.816496580927726, 0.816496580927726, 0.816496580927726], 2.581988897471611]\n",
      "max :[[7, 8, 9], [3, 6, 9], 9]\n",
      "min :[[1, 2, 3], [1, 4, 7], 1]\n",
      "sum :[[12, 15, 18], [6, 15, 24], 45]\n",
      "mean :[[3.0, 4.0, 5.0], [1.0, 4.0, 7.0], 4.0]\n",
      "variance :[[6.0, 6.0, 6.0], [0.6666666666666666, 0.6666666666666666, 0.6666666666666666], 6.666666666666667]\n",
      "standard deviation :[[2.449489742783178, 2.449489742783178, 2.449489742783178], [0.816496580927726, 0.816496580927726, 0.816496580927726], 2.581988897471611]\n",
      "max :[[6, 7, 8], [2, 5, 8], 8]\n",
      "min :[[0, 1, 2], [0, 3, 6], 0]\n",
      "sum :[[9, 12, 15], [3, 12, 21], 36]\n",
      "List must contain 9 numbers\n"
     ]
    }
   ],
   "source": [
    "#This line imports numpy module \n",
    "import numpy as np\n",
    "#This function calculates mean, variance, standard deviation, max, min, and the sum of the rows, columns, and elements in a 3 x 3\n",
    "def calculation(mat):\n",
    "  #mean\n",
    "  mean = list(mat.mean(axis=0)), list(mat.mean(axis=1)), mat.mean()\n",
    "  #variance\n",
    "  var = list(mat.var(axis=0)), list(mat.var(axis=1)), mat.var()\n",
    "  #standard deviation\n",
    "  std = list(mat.std(axis=0)), list(mat.std(axis=1)), mat.std()\n",
    "  #maximum value\n",
    "  maxi = list(mat.max(axis=0)), list(mat.max(axis=1)), mat.max()\n",
    "  #minimun value\n",
    "  mini = list(mat.min(axis=0)), list(mat.min(axis=1)), mat.min()\n",
    "  #sum of the rows, columns, and elements\n",
    "  sums = list(mat.sum(axis=0)), list(mat.sum(axis=1)), mat.sum()\n",
    "  mean = list(mean)\n",
    "  var = list(var)\n",
    "  std = list(std)\n",
    "  maxi = list(maxi)\n",
    "  mini = list(mini)\n",
    "  sums = list(sums)\n",
    "  print(f'mean :{mean}\\nvariance :{var}\\nstandard deviation :{std}\\nmax :{maxi}\\nmin :{mini}\\nsum :{sums}')\n",
    "#This function convert the list into a 3 x 3 matrix and call the calculation function\n",
    "def calculate(mat):\n",
    "  try:\n",
    "    #convert the list into a 3 x 3 matrix\n",
    "      mat = np.array(mat).reshape(3,3)\n",
    "      output = calculation(mat)\n",
    "      return output\n",
    "  #it will execute if an error occurs  \n",
    "  except ValueError:\n",
    "      print('List must contain 9 numbers')\n",
    "#Test the function with some function\n",
    "calculate([1,2,3,4,5,6,7,8,9])\n",
    "calculate([0,1,2,3,4,5,6,7,8])\n",
    "#will raise an error\n",
    "calculate([2,6,2,8,4,0,1,5])"
   ]
  }
 ],
 "metadata": {
  "kernelspec": {
   "display_name": "Python 3 (ipykernel)",
   "language": "python",
   "name": "python3"
  },
  "language_info": {
   "codemirror_mode": {
    "name": "ipython",
    "version": 3
   },
   "file_extension": ".py",
   "mimetype": "text/x-python",
   "name": "python",
   "nbconvert_exporter": "python",
   "pygments_lexer": "ipython3",
   "version": "3.11.5"
  }
 },
 "nbformat": 4,
 "nbformat_minor": 5
}
